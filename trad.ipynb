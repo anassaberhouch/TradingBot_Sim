{
 "cells": [
  {
   "cell_type": "code",
   "execution_count": 13,
   "metadata": {},
   "outputs": [],
   "source": [
    "import unicorn_binance_websocket_api as uni "
   ]
  },
  {
   "cell_type": "code",
   "execution_count": 14,
   "metadata": {},
   "outputs": [],
   "source": [
    "ubwa = uni.BinanceWebSocketApiManager(exchange = 'binance.com')"
   ]
  },
  {
   "cell_type": "code",
   "execution_count": 18,
   "metadata": {},
   "outputs": [
    {
     "data": {
      "text/plain": [
       "'4891402a0754-c3e7-52c3-b42a-017a5ddd'"
      ]
     },
     "execution_count": 18,
     "metadata": {},
     "output_type": "execute_result"
    }
   ],
   "source": [
    "ubwa.create_stream(['kline_1m'],'BTCUSD',output='UnicornFy')"
   ]
  },
  {
   "cell_type": "code",
   "execution_count": 16,
   "metadata": {},
   "outputs": [
    {
     "ename": "NameError",
     "evalue": "name 'buyprice' is not defined",
     "output_type": "error",
     "traceback": [
      "\u001b[1;31m---------------------------------------------------------------------------\u001b[0m",
      "\u001b[1;31mNameError\u001b[0m                                 Traceback (most recent call last)",
      "Cell \u001b[1;32mIn [16], line 2\u001b[0m\n\u001b[0;32m      1\u001b[0m Benchmark \u001b[39m=\u001b[39m \u001b[39m16000\u001b[39m\n\u001b[1;32m----> 2\u001b[0m benchmark\u001b[39m=\u001b[39m buyprice\n",
      "\u001b[1;31mNameError\u001b[0m: name 'buyprice' is not defined"
     ]
    }
   ],
   "source": [
    "Benchmark = 16000\n",
    "benchmark= buyprice"
   ]
  },
  {
   "cell_type": "code",
   "execution_count": 19,
   "metadata": {},
   "outputs": [],
   "source": [
    "while True :\n",
    "    data=ubwa.pop_stream_data_from_stream_buffer()\n",
    "    if data and len(data)>3:\n",
    "        liveprice = float(data['kline']['close price'])\n",
    "        print(liveprice)\n",
    "        if liveprice > Benchmark:\n",
    "            liveprice = Benchmark\n",
    "            print(\"Benchmark = \"+ str(Benchmark))\n",
    "            TSL = benchmark * 0.98\n",
    "            print('current trailing stop loss:' +str(TSL))\n",
    "            print('-----------------------------')"
   ]
  }
 ],
 "metadata": {
  "kernelspec": {
   "display_name": "Python 3.10.2 ('.venv': venv)",
   "language": "python",
   "name": "python3"
  },
  "language_info": {
   "codemirror_mode": {
    "name": "ipython",
    "version": 3
   },
   "file_extension": ".py",
   "mimetype": "text/x-python",
   "name": "python",
   "nbconvert_exporter": "python",
   "pygments_lexer": "ipython3",
   "version": "3.10.2"
  },
  "orig_nbformat": 4,
  "vscode": {
   "interpreter": {
    "hash": "07429a34e770099ffecaef6e5a3be79b4391c71754f76a3975601a2d3fddefc5"
   }
  }
 },
 "nbformat": 4,
 "nbformat_minor": 2
}
