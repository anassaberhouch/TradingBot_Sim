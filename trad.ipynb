{
 "cells": [
  {
   "cell_type": "code",
   "execution_count": 1,
   "metadata": {},
   "outputs": [
    {
     "ename": "ModuleNotFoundError",
     "evalue": "No module named 'unicorn_binance_websocket_api'",
     "output_type": "error",
     "traceback": [
      "\u001b[1;31m---------------------------------------------------------------------------\u001b[0m",
      "\u001b[1;31mModuleNotFoundError\u001b[0m                       Traceback (most recent call last)",
      "Cell \u001b[1;32mIn [1], line 1\u001b[0m\n\u001b[1;32m----> 1\u001b[0m \u001b[39mimport\u001b[39;00m \u001b[39municorn_binance_websocket_api\u001b[39;00m \u001b[39mas\u001b[39;00m \u001b[39muni\u001b[39;00m \n",
      "\u001b[1;31mModuleNotFoundError\u001b[0m: No module named 'unicorn_binance_websocket_api'"
     ]
    }
   ],
   "source": [
    "import unicorn_binance_websocket_api as uni "
   ]
  },
  {
   "cell_type": "code",
   "execution_count": 5,
   "metadata": {},
   "outputs": [],
   "source": [
    "ubwa = uni.BinanceWebSocketApiManager(exchange = 'binance.com')"
   ]
  },
  {
   "cell_type": "code",
   "execution_count": 6,
   "metadata": {},
   "outputs": [
    {
     "data": {
      "text/plain": [
       "'fe685666026d-bc8e-2b1f-9ed3-65179b4f'"
      ]
     },
     "execution_count": 6,
     "metadata": {},
     "output_type": "execute_result"
    }
   ],
   "source": [
    "ubwa.create_stream(['kline_1m'],'BTCUSD',output='UnicornFy')"
   ]
  },
  {
   "cell_type": "code",
   "execution_count": 7,
   "metadata": {},
   "outputs": [
    {
     "ename": "NameError",
     "evalue": "name 'buyprice' is not defined",
     "output_type": "error",
     "traceback": [
      "\u001b[1;31m---------------------------------------------------------------------------\u001b[0m",
      "\u001b[1;31mNameError\u001b[0m                                 Traceback (most recent call last)",
      "Cell \u001b[1;32mIn [7], line 2\u001b[0m\n\u001b[0;32m      1\u001b[0m Benchmark \u001b[39m=\u001b[39m \u001b[39m16000\u001b[39m\n\u001b[1;32m----> 2\u001b[0m benchmark\u001b[39m=\u001b[39m buyprice\n",
      "\u001b[1;31mNameError\u001b[0m: name 'buyprice' is not defined"
     ]
    }
   ],
   "source": [
    "Benchmark = 16000\n",
    "benchmark= buyprice"
   ]
  },
  {
   "cell_type": "code",
   "execution_count": 8,
   "metadata": {},
   "outputs": [
    {
     "ename": "KeyboardInterrupt",
     "evalue": "",
     "output_type": "error",
     "traceback": [
      "\u001b[1;31m---------------------------------------------------------------------------\u001b[0m",
      "\u001b[1;31mKeyboardInterrupt\u001b[0m                         Traceback (most recent call last)",
      "Cell \u001b[1;32mIn [8], line 3\u001b[0m\n\u001b[0;32m      1\u001b[0m \u001b[39mwhile\u001b[39;00m \u001b[39mTrue\u001b[39;00m :\n\u001b[0;32m      2\u001b[0m     data\u001b[39m=\u001b[39mubwa\u001b[39m.\u001b[39mpop_stream_data_from_stream_buffer()\n\u001b[1;32m----> 3\u001b[0m     \u001b[39mif\u001b[39;00m data \u001b[39mand\u001b[39;00m \u001b[39mlen\u001b[39m(data)\u001b[39m>\u001b[39m\u001b[39m3\u001b[39m:\n\u001b[0;32m      4\u001b[0m         liveprice \u001b[39m=\u001b[39m \u001b[39mfloat\u001b[39m(data[\u001b[39m'\u001b[39m\u001b[39mkline\u001b[39m\u001b[39m'\u001b[39m][\u001b[39m'\u001b[39m\u001b[39mclose price\u001b[39m\u001b[39m'\u001b[39m])\n\u001b[0;32m      5\u001b[0m         \u001b[39mprint\u001b[39m(liveprice)\n",
      "\u001b[1;31mKeyboardInterrupt\u001b[0m: "
     ]
    }
   ],
   "source": [
    "while True :\n",
    "    data=ubwa.pop_stream_data_from_stream_buffer()\n",
    "    if data and len(data)>3:\n",
    "        liveprice = float(data['kline']['close price'])\n",
    "        print(liveprice)\n",
    "        if liveprice > Benchmark:\n",
    "            liveprice = Benchmark\n",
    "            print(\"Benchmark = \"+ str(Benchmark))\n",
    "            TSL = benchmark * 0.98\n",
    "            print('current trailing stop loss:' +str(TSL))\n",
    "            print('-----------------------------')"
   ]
  }
 ],
 "metadata": {
  "kernelspec": {
   "display_name": "Python 3.10.2 ('.venv': venv)",
   "language": "python",
   "name": "python3"
  },
  "language_info": {
   "codemirror_mode": {
    "name": "ipython",
    "version": 3
   },
   "file_extension": ".py",
   "mimetype": "text/x-python",
   "name": "python",
   "nbconvert_exporter": "python",
   "pygments_lexer": "ipython3",
   "version": "3.10.2"
  },
  "orig_nbformat": 4,
  "vscode": {
   "interpreter": {
    "hash": "2b8a5d463e0d04b1c6991fa76c50b67b82a5b346b0ccde4aede42e4b4568dfef"
   }
  }
 },
 "nbformat": 4,
 "nbformat_minor": 2
}
